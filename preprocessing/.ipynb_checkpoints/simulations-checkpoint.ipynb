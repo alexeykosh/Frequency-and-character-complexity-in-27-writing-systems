{
 "cells": [
  {
   "cell_type": "code",
   "execution_count": 2,
   "metadata": {},
   "outputs": [],
   "source": [
    "import pandas as pd\n",
    "import matplotlib.pyplot as plt\n",
    "import numpy as np\n",
    "from collections import Counter \n",
    "from tqdm.notebook import trange\n",
    "from scipy.spatial.distance import jensenshannon\n",
    "import scipy.stats as st\n",
    "import random\n",
    "\n",
    "\n",
    "pd.options.mode.chained_assignment = None"
   ]
  },
  {
   "cell_type": "code",
   "execution_count": 3,
   "metadata": {},
   "outputs": [
    {
     "data": {
      "text/plain": [
       "array([0.31049118, 0.18292614, 0.20243197, 0.22102935, 0.33477115,\n",
       "       0.22470009, 0.1327985 , 0.27775962, 0.16745173, 0.54893562])"
      ]
     },
     "execution_count": 3,
     "metadata": {},
     "output_type": "execute_result"
    }
   ],
   "source": [
    "np.random.beta(2, 5, 10)"
   ]
  },
  {
   "cell_type": "code",
   "execution_count": 102,
   "metadata": {},
   "outputs": [
    {
     "data": {
      "text/plain": [
       "<matplotlib.collections.PathCollection at 0x7fb5ac03f190>"
      ]
     },
     "execution_count": 102,
     "metadata": {},
     "output_type": "execute_result"
    },
    {
     "data": {
      "image/png": "[encoded data removed]",
      "text/plain": [
       "<Figure size 432x288 with 1 Axes>"
      ]
     },
     "metadata": {
      "needs_background": "light"
     },
     "output_type": "display_data"
    }
   ],
   "source": [
    "import string \n",
    "\n",
    "def generate_word():\n",
    "    l = np.random.poisson(lam=2.9)\n",
    "    return ''.join([random.choice(string.ascii_letters) for n in range(l)]) \n",
    "\n",
    "corpus = [generate_word().lower() for _ in range(100000)]\n",
    "df = pd.DataFrame.from_dict(Counter(corpus), orient='index', columns = ['count']).reset_index()\\\n",
    ".sort_values('count', ascending=False).reset_index(drop=True)\n",
    "df['rank'] = df['count'].rank(method=\"min\", ascending=False)\n",
    "df['count'] = df['count']/df['count'].sum()\n",
    "plt.scatter(np.log(df['rank']), np.log(df['count']), s=5)"
   ]
  },
  {
   "cell_type": "markdown",
   "metadata": {},
   "source": [
    "## 1. English approximation:"
   ]
  },
  {
   "cell_type": "markdown",
   "metadata": {},
   "source": [
    "Get the corpus:"
   ]
  },
  {
   "cell_type": "code",
   "execution_count": 292,
   "metadata": {},
   "outputs": [],
   "source": [
    "with open('texts.txt', 'r') as file:\n",
    "    texts = file.read().replace('\"', '').replace('\\n', '').replace(' ', '')"
   ]
  },
  {
   "cell_type": "markdown",
   "metadata": {},
   "source": [
    "Corpus size:"
   ]
  },
  {
   "cell_type": "markdown",
   "metadata": {},
   "source": [
    "Letter frequencies in the whole corpora:"
   ]
  },
  {
   "cell_type": "code",
   "execution_count": 293,
   "metadata": {},
   "outputs": [],
   "source": [
    "res = Counter(texts)\n",
    "df = pd.DataFrame.from_dict(res, orient='index', columns = ['count']).reset_index()\\\n",
    ".sort_values('index', ascending=True).reset_index(drop=True)\n",
    "df['freq'] = df['count']/df['count'].sum()\n",
    "freq_final = df['freq'].tolist()"
   ]
  },
  {
   "cell_type": "markdown",
   "metadata": {},
   "source": [
    "Frequencies are correctly counted:"
   ]
  },
  {
   "cell_type": "code",
   "execution_count": 15,
   "metadata": {},
   "outputs": [
    {
     "data": {
      "text/plain": [
       "1.0"
      ]
     },
     "execution_count": 15,
     "metadata": {},
     "output_type": "execute_result"
    }
   ],
   "source": [
    "df['freq'].sum()"
   ]
  },
  {
   "cell_type": "code",
   "execution_count": 18,
   "metadata": {},
   "outputs": [
    {
     "data": {
      "text/plain": [
       "100000"
      ]
     },
     "execution_count": 18,
     "metadata": {},
     "output_type": "execute_result"
    }
   ],
   "source": [
    "10**5"
   ]
  },
  {
   "cell_type": "markdown",
   "metadata": {},
   "source": [
    "Increase the initial chunk size of $10^4$ each step with a $10^4$ random chunk. Then compare the frequencies for each chunk up to $10^5$ with the actual frequency distribution from the whole corpora:"
   ]
  },
  {
   "cell_type": "code",
   "execution_count": 16,
   "metadata": {},
   "outputs": [
    {
     "data": {
      "application/vnd.jupyter.widget-view+json": {
       "model_id": "d5c03b42f5e245dbaa4d8b0d61210d05",
       "version_major": 2,
       "version_minor": 0
      },
      "text/plain": [
       "HBox(children=(FloatProgress(value=0.0), HTML(value='')))"
      ]
     },
     "metadata": {},
     "output_type": "display_data"
    },
    {
     "name": "stdout",
     "output_type": "stream",
     "text": [
      "\n"
     ]
    }
   ],
   "source": [
    "dfss = []\n",
    "chunk = 10000\n",
    "maximum = len(texts)\n",
    "\n",
    "for k in trange(100):\n",
    "    dfs = []\n",
    "    text = ''\n",
    "    for _ in range(100):\n",
    "        diff = random.randint(0, maximum-chunk)\n",
    "        text += texts[diff:diff+chunk]\n",
    "        res = Counter(text)\n",
    "        df = pd.DataFrame.from_dict(res, orient='index', columns = ['count']).reset_index()\\\n",
    "        .sort_values('index', ascending=True).reset_index(drop= True)\n",
    "        df['freq'] = df['count']/df['count'].sum()\n",
    "        dfs.append(df['freq'].tolist())\n",
    "    \n",
    "    jsd = []\n",
    "\n",
    "    for el in dfs:\n",
    "        if len(el) == 26:\n",
    "            jsd.append(jensenshannon(el, freq_final))\n",
    "        else:\n",
    "            pass\n",
    "    dfss.append(jsd)\n",
    "        \n",
    "del text"
   ]
  },
  {
   "cell_type": "code",
   "execution_count": 21,
   "metadata": {},
   "outputs": [
    {
     "data": {
      "text/plain": [
       "<matplotlib.legend.Legend at 0x7f9874fd9820>"
      ]
     },
     "execution_count": 21,
     "metadata": {},
     "output_type": "execute_result"
    },
    {
     "data": {
      "image/png": "[encoded data removed]",
      "text/plain": [
       "<Figure size 576x360 with 1 Axes>"
      ]
     },
     "metadata": {
      "needs_background": "light"
     },
     "output_type": "display_data"
    }
   ],
   "source": [
    "plt.figure(figsize=(8, 5))\n",
    "for jsd in dfss:\n",
    "    plt.plot(jsd, color='blue', alpha=0.1)\n",
    "plt.hlines(0.005, xmin=0, xmax=100,\n",
    "           color='r', linestyles='--',\n",
    "           label='0.005 difference', linewidth=2)\n",
    "plt.ylabel('Jensen-Shannon difference w/ \\n actual distribution')\n",
    "plt.xlabel('Number of letters ($\\\\times 10^4$)')\n",
    "plt.legend()"
   ]
  },
  {
   "cell_type": "markdown",
   "metadata": {},
   "source": [
    "Confidence intervals for the mean:"
   ]
  },
  {
   "cell_type": "code",
   "execution_count": 88,
   "metadata": {},
   "outputs": [],
   "source": [
    "res = []\n",
    "\n",
    "for jsd in zip(*dfss):\n",
    "    confint = st.norm.interval(0.95,\n",
    "                            loc=np.mean(jsd),\n",
    "                            scale=st.sem(jsd))\n",
    "    mean = np.mean(jsd)\n",
    "    res.append(list(confint) + [mean])"
   ]
  },
  {
   "cell_type": "code",
   "execution_count": 89,
   "metadata": {},
   "outputs": [],
   "source": [
    "mean_ci = pd.DataFrame.from_records(res, columns=['lower', 'upper', 'mean'])"
   ]
  },
  {
   "cell_type": "code",
   "execution_count": 90,
   "metadata": {},
   "outputs": [
    {
     "data": {
      "text/plain": [
       "<matplotlib.collections.LineCollection at 0x7f9877bb6640>"
      ]
     },
     "execution_count": 90,
     "metadata": {},
     "output_type": "execute_result"
    },
    {
     "data": {
      "image/png": "[encoded data removed]",
      "text/plain": [
       "<Figure size 576x360 with 1 Axes>"
      ]
     },
     "metadata": {
      "needs_background": "light"
     },
     "output_type": "display_data"
    }
   ],
   "source": [
    "plt.figure(figsize=(8, 5))\n",
    "plt.plot([_ for _ in range(100)], mean_ci['mean'])\n",
    "plt.fill_between([_ for _ in range(100)],\n",
    "                 y1=mean_ci['lower'],\n",
    "                 y2=mean_ci['upper'], \n",
    "                 alpha=0.2, \n",
    "                 color='red')\n",
    "plt.hlines(0.005, xmin=0, xmax=100,\n",
    "           color='r', linestyles='--',\n",
    "           label='0.005 difference', linewidth=2)"
   ]
  },
  {
   "cell_type": "markdown",
   "metadata": {},
   "source": [
    "## 2. Random Zipfian process:"
   ]
  },
  {
   "cell_type": "code",
   "execution_count": 276,
   "metadata": {},
   "outputs": [],
   "source": [
    "import scipy.stats as stats\n",
    "import seaborn as sns\n",
    "from scipy.stats import rankdata, zipf"
   ]
  },
  {
   "cell_type": "code",
   "execution_count": 326,
   "metadata": {},
   "outputs": [
    {
     "data": {
      "image/png": "[encoded data removed]",
      "text/plain": [
       "<Figure size 432x288 with 1 Axes>"
      ]
     },
     "metadata": {
      "needs_background": "light"
     },
     "output_type": "display_data"
    }
   ],
   "source": [
    "k = np.linspace(0, 80, 101)\n",
    "\n",
    "for a in np.linspace(1.1, 2, 3):\n",
    "    p = zipf.pmf(k, a=a)\n",
    "    plt.plot(k, p, label='a={}'.format(a))"
   ]
  },
  {
   "cell_type": "code",
   "execution_count": 327,
   "metadata": {},
   "outputs": [
    {
     "data": {
      "text/plain": [
       "0.060646930934872875"
      ]
     },
     "execution_count": 327,
     "metadata": {},
     "output_type": "execute_result"
    }
   ],
   "source": [
    "np.sum(p)"
   ]
  },
  {
   "cell_type": "code",
   "execution_count": 258,
   "metadata": {},
   "outputs": [],
   "source": [
    "n = 100000"
   ]
  },
  {
   "cell_type": "code",
   "execution_count": 270,
   "metadata": {},
   "outputs": [],
   "source": [
    "z = np.random.zipf(4, n)"
   ]
  },
  {
   "cell_type": "code",
   "execution_count": 271,
   "metadata": {},
   "outputs": [],
   "source": [
    "def get_proba(z):\n",
    "    z = sorted(np.random.zipf(4, n))\n",
    "    rank = rankdata(z,  method='dense')\n",
    "    res = Counter(rank)\n",
    "    df = pd.DataFrame.from_dict(res, orient='index', columns = ['count']).reset_index()\\\n",
    "    .sort_values('index', ascending=True).reset_index(drop= True)\n",
    "    df['freq'] = df['count']/df['count'].sum()\n",
    "    return df['freq'].to_list()"
   ]
  },
  {
   "cell_type": "code",
   "execution_count": 272,
   "metadata": {},
   "outputs": [
    {
     "name": "stdout",
     "output_type": "stream",
     "text": [
      "21\n"
     ]
    }
   ],
   "source": [
    "initial_prob = get_proba(z)\n",
    "initial_size = len(initial_prob)\n",
    "print(initial_size)"
   ]
  },
  {
   "cell_type": "code",
   "execution_count": 275,
   "metadata": {},
   "outputs": [
    {
     "data": {
      "text/plain": [
       "[0.92307,\n",
       " 0.05829,\n",
       " 0.01177,\n",
       " 0.00371,\n",
       " 0.00143,\n",
       " 0.00076,\n",
       " 0.00034,\n",
       " 0.00022,\n",
       " 0.0001,\n",
       " 9e-05,\n",
       " 2e-05,\n",
       " 6e-05,\n",
       " 2e-05,\n",
       " 3e-05,\n",
       " 1e-05,\n",
       " 2e-05,\n",
       " 3e-05,\n",
       " 1e-05,\n",
       " 1e-05,\n",
       " 1e-05]"
      ]
     },
     "execution_count": 275,
     "metadata": {},
     "output_type": "execute_result"
    }
   ],
   "source": [
    "get_proba(z[1:10000])"
   ]
  },
  {
   "cell_type": "code",
   "execution_count": 267,
   "metadata": {},
   "outputs": [
    {
     "ename": "ValueError",
     "evalue": "operands could not be broadcast together with shapes (0,) (10000,) ",
     "output_type": "error",
     "traceback": [
      "\u001b[0;31m---------------------------------------------------------------------------\u001b[0m",
      "\u001b[0;31mValueError\u001b[0m                                Traceback (most recent call last)",
      "\u001b[0;32m<ipython-input-267-559e3edd94a4>\u001b[0m in \u001b[0;36m<module>\u001b[0;34m\u001b[0m\n\u001b[1;32m      4\u001b[0m \u001b[0;32mfor\u001b[0m \u001b[0m_\u001b[0m \u001b[0;32min\u001b[0m \u001b[0mrange\u001b[0m\u001b[0;34m(\u001b[0m\u001b[0;36m100\u001b[0m\u001b[0;34m)\u001b[0m\u001b[0;34m:\u001b[0m\u001b[0;34m\u001b[0m\u001b[0;34m\u001b[0m\u001b[0m\n\u001b[1;32m      5\u001b[0m     \u001b[0mdiff\u001b[0m \u001b[0;34m=\u001b[0m \u001b[0mrandom\u001b[0m\u001b[0;34m.\u001b[0m\u001b[0mrandint\u001b[0m\u001b[0;34m(\u001b[0m\u001b[0;36m0\u001b[0m\u001b[0;34m,\u001b[0m \u001b[0mn\u001b[0m\u001b[0;34m-\u001b[0m\u001b[0mchunk\u001b[0m\u001b[0;34m)\u001b[0m\u001b[0;34m\u001b[0m\u001b[0;34m\u001b[0m\u001b[0m\n\u001b[0;32m----> 6\u001b[0;31m     \u001b[0msets\u001b[0m \u001b[0;34m+=\u001b[0m \u001b[0mz\u001b[0m\u001b[0;34m[\u001b[0m\u001b[0mdiff\u001b[0m\u001b[0;34m:\u001b[0m\u001b[0mdiff\u001b[0m\u001b[0;34m+\u001b[0m\u001b[0mchunk\u001b[0m\u001b[0;34m]\u001b[0m\u001b[0;34m\u001b[0m\u001b[0;34m\u001b[0m\u001b[0m\n\u001b[0m\u001b[1;32m      7\u001b[0m     \u001b[0mprob\u001b[0m \u001b[0;34m=\u001b[0m \u001b[0mget_proba\u001b[0m\u001b[0;34m(\u001b[0m\u001b[0msets\u001b[0m\u001b[0;34m)\u001b[0m\u001b[0;34m\u001b[0m\u001b[0;34m\u001b[0m\u001b[0m\n\u001b[1;32m      8\u001b[0m     \u001b[0mprint\u001b[0m\u001b[0;34m(\u001b[0m\u001b[0mprob\u001b[0m\u001b[0;34m)\u001b[0m\u001b[0;34m\u001b[0m\u001b[0;34m\u001b[0m\u001b[0m\n",
      "\u001b[0;31mValueError\u001b[0m: operands could not be broadcast together with shapes (0,) (10000,) "
     ]
    }
   ],
   "source": [
    "chunk = 10000\n",
    "sets = []\n",
    "\n",
    "for _ in range(100):\n",
    "    diff = random.randint(0, n-chunk)\n",
    "    sets += z[diff:diff+chunk]\n",
    "    prob = get_proba(sets)\n",
    "    print(prob)\n",
    "    if len(prob) == initial_size:\n",
    "        print(jensenshannon(prob, initial_prob))"
   ]
  },
  {
   "cell_type": "code",
   "execution_count": null,
   "metadata": {},
   "outputs": [],
   "source": []
  }
 ],
 "metadata": {
  "kernelspec": {
   "display_name": "Python 3 (ipykernel)",
   "language": "python",
   "name": "python3"
  },
  "language_info": {
   "codemirror_mode": {
    "name": "ipython",
    "version": 3
   },
   "file_extension": ".py",
   "mimetype": "text/x-python",
   "name": "python",
   "nbconvert_exporter": "python",
   "pygments_lexer": "ipython3",
   "version": "3.9.13"
  }
 },
 "nbformat": 4,
 "nbformat_minor": 4
}
